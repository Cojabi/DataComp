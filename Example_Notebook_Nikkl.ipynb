{
 "cells": [
  {
   "cell_type": "code",
   "execution_count": 16,
   "metadata": {},
   "outputs": [],
   "source": [
    "import pandas as pd\n",
    "import DataComp as dc\n",
    "from scipy.stats import ttest_ind as ttest"
   ]
  },
  {
   "cell_type": "code",
   "execution_count": 4,
   "metadata": {},
   "outputs": [],
   "source": [
    "dfs, df_names = dc.get_data([\"/home/colin/git/DataComp/niklas_test.csv\"], groupby=\"DD01\",\n",
    "                         rel_cols=[\"IM01_01\", \"IM01_02\", \"IM01_03\", \"IM01_04\", \"IM01_05\"])"
   ]
  },
  {
   "cell_type": "code",
   "execution_count": null,
   "metadata": {},
   "outputs": [],
   "source": []
  },
  {
   "cell_type": "code",
   "execution_count": 19,
   "metadata": {},
   "outputs": [],
   "source": [
    "df = pd.read_csv(\"/home/colin/git/DataComp/niklas_test.csv\", index_col=0)[[\"IM01_01\", \"IM01_02\", \"IM01_03\", \"IM01_04\", \"IM01_05\"]]"
   ]
  },
  {
   "cell_type": "code",
   "execution_count": 34,
   "metadata": {},
   "outputs": [
    {
     "data": {
      "text/plain": [
       "'IM01_01'"
      ]
     },
     "execution_count": 34,
     "metadata": {},
     "output_type": "execute_result"
    }
   ],
   "source": [
    "x = \"IM01_01\tIM01_02\tIM01_03\tIM01_04\tIM01_05\tUK01_01\tUK01_02\tUK01_03\tUK01_04\tUK01_05\tLT01_01\tLT01_02\tLT01_03\tLT01_04\tLT01_05\tSZ01_01\tSZ01_02\tSZ01_03\tSZ01_04\tSZ01_05\tKP01_01\tKP01_02\tKP01_03\tKP01_04\tKP01_05\"\n",
    "feats = x.split(\"\\t\")"
   ]
  },
  {
   "cell_type": "code",
   "execution_count": 36,
   "metadata": {},
   "outputs": [],
   "source": [
    "df = pd.read_csv(\"/home/colin/git/DataComp/niklas_test.csv\", index_col=0)\n",
    "\n",
    "x = \"IM01_01\tIM01_02\tIM01_03\tIM01_04\tIM01_05\tUK01_01\tUK01_02\tUK01_03\tUK01_04\tUK01_05\tLT01_01\tLT01_02\tLT01_03\tLT01_04\tLT01_05\tSZ01_01\tSZ01_02\tSZ01_03\tSZ01_04\tSZ01_05\tKP01_01\tKP01_02\tKP01_03\tKP01_04\tKP01_05\"\n",
    "feats = x.split(\"\\t\")\n",
    "results = dict()\n",
    "\n",
    "for feat1 in feats:\n",
    "    results[feat1] = dict()\n",
    "    \n",
    "    for feat2 in feats:\n",
    "        results[feat1][feat2] = ttest(df[feat1], df[feat2]).pvalue"
   ]
  },
  {
   "cell_type": "code",
   "execution_count": 41,
   "metadata": {},
   "outputs": [
    {
     "data": {
      "text/plain": [
       "IM01_01    19\n",
       "IM01_02    18\n",
       "IM01_03    18\n",
       "IM01_04    23\n",
       "IM01_05    17\n",
       "KP01_01    17\n",
       "KP01_02    18\n",
       "KP01_03    17\n",
       "KP01_04    16\n",
       "KP01_05    20\n",
       "LT01_01    19\n",
       "LT01_02    15\n",
       "LT01_03    15\n",
       "LT01_04    19\n",
       "LT01_05    17\n",
       "SZ01_01    18\n",
       "SZ01_02    24\n",
       "SZ01_03    22\n",
       "SZ01_04    21\n",
       "SZ01_05    19\n",
       "UK01_01    23\n",
       "UK01_02    21\n",
       "UK01_03    20\n",
       "UK01_04    17\n",
       "UK01_05    21\n",
       "dtype: int64"
      ]
     },
     "execution_count": 41,
     "metadata": {},
     "output_type": "execute_result"
    }
   ],
   "source": [
    "res = pd.DataFrame(results)\n",
    "sig = res < 0.05\n",
    "sig.sum(axis=1)"
   ]
  },
  {
   "cell_type": "code",
   "execution_count": 9,
   "metadata": {},
   "outputs": [],
   "source": [
    "l = pd.Series()\n",
    "for col in [\"IM01_01\", \"IM01_02\", \"IM01_03\", \"IM01_04\", \"IM01_05\"]:\n",
    "    l = l.append(df[col])"
   ]
  },
  {
   "cell_type": "code",
   "execution_count": 11,
   "metadata": {},
   "outputs": [
    {
     "data": {
      "text/plain": [
       "3.8319634703196348"
      ]
     },
     "execution_count": 11,
     "metadata": {},
     "output_type": "execute_result"
    }
   ],
   "source": [
    "l.mean()"
   ]
  },
  {
   "cell_type": "code",
   "execution_count": 12,
   "metadata": {},
   "outputs": [
    {
     "data": {
      "text/plain": [
       "3.9100000000000001"
      ]
     },
     "execution_count": 12,
     "metadata": {},
     "output_type": "execute_result"
    }
   ],
   "source": [
    "pd.Series([3.19, 4.18, 3.73, 4.56, 3.89]).mean()"
   ]
  },
  {
   "cell_type": "code",
   "execution_count": 7,
   "metadata": {},
   "outputs": [],
   "source": [
    "zipper = create_zipper(dfs)"
   ]
  },
  {
   "cell_type": "code",
   "execution_count": 8,
   "metadata": {},
   "outputs": [],
   "source": [
    "p = test_num_dist(zipper)"
   ]
  },
  {
   "cell_type": "markdown",
   "metadata": {},
   "source": [
    "# CHECK IF THE FOLLOWING TABLE KEEPS THE ORDER LIKE IN THE DICT. -> CHECK IF VALUES ARE LISTED IN THE RIGHT KEY/INDEX COMBINATIONS"
   ]
  },
  {
   "cell_type": "code",
   "execution_count": 9,
   "metadata": {},
   "outputs": [
    {
     "data": {
      "text/html": [
       "<div>\n",
       "<style scoped>\n",
       "    .dataframe tbody tr th:only-of-type {\n",
       "        vertical-align: middle;\n",
       "    }\n",
       "\n",
       "    .dataframe tbody tr th {\n",
       "        vertical-align: top;\n",
       "    }\n",
       "\n",
       "    .dataframe thead th {\n",
       "        text-align: right;\n",
       "    }\n",
       "</style>\n",
       "<table border=\"1\" class=\"dataframe\">\n",
       "  <thead>\n",
       "    <tr style=\"text-align: right;\">\n",
       "      <th></th>\n",
       "      <th></th>\n",
       "      <th>pv</th>\n",
       "      <th>cor_pv</th>\n",
       "      <th>signf</th>\n",
       "    </tr>\n",
       "  </thead>\n",
       "  <tbody>\n",
       "    <tr>\n",
       "      <th rowspan=\"3\" valign=\"top\">IM01_01</th>\n",
       "      <th>(0, 1)</th>\n",
       "      <td>0.938650</td>\n",
       "      <td>0.994593</td>\n",
       "      <td>False</td>\n",
       "    </tr>\n",
       "    <tr>\n",
       "      <th>(0, 2)</th>\n",
       "      <td>0.339447</td>\n",
       "      <td>0.963754</td>\n",
       "      <td>False</td>\n",
       "    </tr>\n",
       "    <tr>\n",
       "      <th>(1, 2)</th>\n",
       "      <td>0.411305</td>\n",
       "      <td>0.975496</td>\n",
       "      <td>False</td>\n",
       "    </tr>\n",
       "    <tr>\n",
       "      <th rowspan=\"3\" valign=\"top\">IM01_02</th>\n",
       "      <th>(0, 1)</th>\n",
       "      <td>0.087461</td>\n",
       "      <td>0.716240</td>\n",
       "      <td>False</td>\n",
       "    </tr>\n",
       "    <tr>\n",
       "      <th>(0, 2)</th>\n",
       "      <td>0.086044</td>\n",
       "      <td>0.716240</td>\n",
       "      <td>False</td>\n",
       "    </tr>\n",
       "    <tr>\n",
       "      <th>(1, 2)</th>\n",
       "      <td>0.107786</td>\n",
       "      <td>0.745536</td>\n",
       "      <td>False</td>\n",
       "    </tr>\n",
       "    <tr>\n",
       "      <th rowspan=\"3\" valign=\"top\">IM01_03</th>\n",
       "      <th>(0, 1)</th>\n",
       "      <td>0.728831</td>\n",
       "      <td>0.994593</td>\n",
       "      <td>False</td>\n",
       "    </tr>\n",
       "    <tr>\n",
       "      <th>(0, 2)</th>\n",
       "      <td>0.790193</td>\n",
       "      <td>0.994593</td>\n",
       "      <td>False</td>\n",
       "    </tr>\n",
       "    <tr>\n",
       "      <th>(1, 2)</th>\n",
       "      <td>0.876214</td>\n",
       "      <td>0.994593</td>\n",
       "      <td>False</td>\n",
       "    </tr>\n",
       "    <tr>\n",
       "      <th rowspan=\"3\" valign=\"top\">IM01_04</th>\n",
       "      <th>(0, 1)</th>\n",
       "      <td>0.026940</td>\n",
       "      <td>0.336115</td>\n",
       "      <td>False</td>\n",
       "    </tr>\n",
       "    <tr>\n",
       "      <th>(0, 2)</th>\n",
       "      <td>0.550809</td>\n",
       "      <td>0.981713</td>\n",
       "      <td>False</td>\n",
       "    </tr>\n",
       "    <tr>\n",
       "      <th>(1, 2)</th>\n",
       "      <td>0.422578</td>\n",
       "      <td>0.975496</td>\n",
       "      <td>False</td>\n",
       "    </tr>\n",
       "    <tr>\n",
       "      <th rowspan=\"3\" valign=\"top\">IM01_05</th>\n",
       "      <th>(0, 1)</th>\n",
       "      <td>0.282033</td>\n",
       "      <td>0.949308</td>\n",
       "      <td>False</td>\n",
       "    </tr>\n",
       "    <tr>\n",
       "      <th>(0, 2)</th>\n",
       "      <td>0.157729</td>\n",
       "      <td>0.848655</td>\n",
       "      <td>False</td>\n",
       "    </tr>\n",
       "    <tr>\n",
       "      <th>(1, 2)</th>\n",
       "      <td>0.164203</td>\n",
       "      <td>0.848655</td>\n",
       "      <td>False</td>\n",
       "    </tr>\n",
       "  </tbody>\n",
       "</table>\n",
       "</div>"
      ],
      "text/plain": [
       "                      pv    cor_pv  signf\n",
       "IM01_01 (0, 1)  0.938650  0.994593  False\n",
       "        (0, 2)  0.339447  0.963754  False\n",
       "        (1, 2)  0.411305  0.975496  False\n",
       "IM01_02 (0, 1)  0.087461  0.716240  False\n",
       "        (0, 2)  0.086044  0.716240  False\n",
       "        (1, 2)  0.107786  0.745536  False\n",
       "IM01_03 (0, 1)  0.728831  0.994593  False\n",
       "        (0, 2)  0.790193  0.994593  False\n",
       "        (1, 2)  0.876214  0.994593  False\n",
       "IM01_04 (0, 1)  0.026940  0.336115  False\n",
       "        (0, 2)  0.550809  0.981713  False\n",
       "        (1, 2)  0.422578  0.975496  False\n",
       "IM01_05 (0, 1)  0.282033  0.949308  False\n",
       "        (0, 2)  0.157729  0.848655  False\n",
       "        (1, 2)  0.164203  0.848655  False"
      ]
     },
     "execution_count": 9,
     "metadata": {},
     "output_type": "execute_result"
    }
   ],
   "source": [
    "x = p_correction(p)\n",
    "x"
   ]
  },
  {
   "cell_type": "markdown",
   "metadata": {},
   "source": [
    "# Plot significant deviances"
   ]
  },
  {
   "cell_type": "code",
   "execution_count": 14,
   "metadata": {},
   "outputs": [
    {
     "data": {
      "image/png": "[encoded data removed]",
      "text/plain": [
       "<matplotlib.figure.Figure at 0x7f5c9c09fdd8>"
      ]
     },
     "metadata": {},
     "output_type": "display_data"
    }
   ],
   "source": [
    "def plot_sig_feats(df, zipper, df_names, feats=None, save_folder=None):\n",
    "    \"\"\" \"\"\"\n",
    "    \n",
    "    # grab significant deviances\n",
    "    sig_entries = df[df[\"signf\"]]\n",
    "    index_labels = sig_entries.index.labels[0]\n",
    "    sig_feats = set(itemgetter(index_labels)(sig_entries.index.levels[0]))\n",
    "    \n",
    "    sig_zipper = {x:zipper[x] for x in sig_feats}\n",
    "    single_feature_bp(sig_zipper, df_names, feats=None, save_folder=None)\n",
    "\n",
    "plot_sig_feats(x, zipper, df_names, feats=None, save_folder=None)"
   ]
  }
 ],
 "metadata": {
  "kernelspec": {
   "display_name": "Python 3",
   "language": "python",
   "name": "python3"
  },
  "language_info": {
   "codemirror_mode": {
    "name": "ipython",
    "version": 3
   },
   "file_extension": ".py",
   "mimetype": "text/x-python",
   "name": "python",
   "nbconvert_exporter": "python",
   "pygments_lexer": "ipython3",
   "version": "3.5.2"
  }
 },
 "nbformat": 4,
 "nbformat_minor": 2
}
