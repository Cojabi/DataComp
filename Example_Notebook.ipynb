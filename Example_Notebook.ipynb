{
 "cells": [
  {
   "cell_type": "code",
   "execution_count": 1,
   "metadata": {},
   "outputs": [],
   "source": [
    "import pandas as pd"
   ]
  },
  {
   "cell_type": "code",
   "execution_count": 2,
   "metadata": {},
   "outputs": [],
   "source": [
    "def get_data(paths, groupby=None, classes=None, sep=\",\"):\n",
    "    \"\"\"Will load the data and return a list of two dataframes\n",
    "    that can then be used for later comparism.\n",
    "    :param path1: Path to dataframe1\n",
    "    :param path2: Path to dataframe2. Optional if all data for comparison is in df1.\n",
    "                  Then use groupby argument\n",
    "    :param groupby: name of the column which specifies classes to compare to each other. (e.g. sampling site)\n",
    "    \"\"\"\n",
    "\n",
    "    dfs = []\n",
    "\n",
    "    if groupby:\n",
    "        data = pd.read_csv(paths[0], index_col=0, sep=sep)\n",
    "        grouping = data.groupby(groupby)\n",
    "\n",
    "        for grp in grouping: # split dataframe groups and create a list with all dataframes\n",
    "            dfs.append(grouping.get_group(grp)[::])\n",
    "\n",
    "    if len(paths) > 1:\n",
    "        for path in paths:\n",
    "            dfs.append(pd.read_csv(path, index_col=0))\n",
    "\n",
    "    if classes:\n",
    "        df_names = classes\n",
    "    else:\n",
    "        classes = range(1, len(dfs)+1)\n",
    "\n",
    "    return dfs, classes"
   ]
  },
  {
   "cell_type": "code",
   "execution_count": 51,
   "metadata": {},
   "outputs": [],
   "source": [
    "def get_data(paths, groupby=None, classes=None, sep=\",\"):\n",
    "    \"\"\"Will load the data and return a list of two dataframes\n",
    "    that can then be used for later comparism.\n",
    "    :param path1: Path to dataframe1\n",
    "    :param path2: Path to dataframe2. Optional if all data for comparison is in df1.\n",
    "                  Then use groupby argument\n",
    "    :param groupby: name of the column which specifies classes to compare to each other. (e.g. sampling site)\n",
    "    \"\"\"\n",
    "\n",
    "    dfs = []\n",
    "\n",
    "    if groupby:\n",
    "        data = pd.read_csv(*paths, index_col=0, sep=sep)\n",
    "        grouping = data.groupby(groupby)\n",
    "\n",
    "        for name, grp in grouping: # split dataframe groups and create a list with all dataframes\n",
    "            df = grouping.get_group(name)[::]\n",
    "            dfs.append(df)\n",
    "\n",
    "    if len(paths) > 1:\n",
    "        for path in paths:\n",
    "            df = pd.read_csv(path, index_col=0)\n",
    "            dfs.append(df)\n",
    "\n",
    "    if classes:\n",
    "        df_names = classes\n",
    "    else:\n",
    "        df_names = [\"df\" + str(x) for x in range(1, len(dfs)+1)]\n",
    "\n",
    "    return dfs, df_names"
   ]
  },
  {
   "cell_type": "code",
   "execution_count": 49,
   "metadata": {},
   "outputs": [],
   "source": [
    "dfs, df_names = get_data([\"/home/colin/git/DataComp/niklas_test.csv\"], groupby=\"DD01\")"
   ]
  },
  {
   "cell_type": "code",
   "execution_count": 50,
   "metadata": {},
   "outputs": [
    {
     "data": {
      "text/plain": [
       "['df1', 'df2', 'df3']"
      ]
     },
     "execution_count": 50,
     "metadata": {},
     "output_type": "execute_result"
    }
   ],
   "source": [
    "df_names"
   ]
  }
 ],
 "metadata": {
  "kernelspec": {
   "display_name": "Python 3",
   "language": "python",
   "name": "python3"
  },
  "language_info": {
   "codemirror_mode": {
    "name": "ipython",
    "version": 3
   },
   "file_extension": ".py",
   "mimetype": "text/x-python",
   "name": "python",
   "nbconvert_exporter": "python",
   "pygments_lexer": "ipython3",
   "version": "3.5.2"
  }
 },
 "nbformat": 4,
 "nbformat_minor": 2
}
